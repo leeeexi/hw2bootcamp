{
 "cells": [
  {
   "cell_type": "markdown",
   "id": "04f38ebe-3bf6-4ec8-8ca6-ca5a8699f2a8",
   "metadata": {},
   "source": [
    "1. Define two custom numpy arrays, say A and B. Generate two new numpy\n",
    "arrays by stacking A and B vertically and horizontally."
   ]
  },
  {
   "cell_type": "code",
   "execution_count": 1,
   "id": "175675a7-47cd-4814-b24b-f48840fbc9a6",
   "metadata": {},
   "outputs": [],
   "source": [
    "import numpy as np"
   ]
  },
  {
   "cell_type": "code",
   "execution_count": 8,
   "id": "3b4aee27-f226-4c4e-b3a9-26c5615dda7a",
   "metadata": {},
   "outputs": [],
   "source": [
    "A=np.array([[1, 2], [3, 4], [5, 6]])\n",
    "B=np.array([[2, 5],[7,9],[1,2]])\n",
    "vertical_stack=np.vstack((A,B))\n",
    "horizontal_stack=np.hstack((A,B))"
   ]
  },
  {
   "cell_type": "markdown",
   "id": "ae3540dc-ea52-489b-99d2-b8c286440b27",
   "metadata": {},
   "source": [
    "2. Find common elements between A and B. [Hint : Intersection of two sets]"
   ]
  },
  {
   "cell_type": "code",
   "execution_count": 9,
   "id": "850fdf75-9650-47ac-97f0-59f8ce9cf78c",
   "metadata": {},
   "outputs": [],
   "source": [
    "A=np.array([1,2,3,4,5])\n",
    "B=np.array([2,3,5,6,8])\n",
    "common_elements=np.intersect1d(A,B)\n"
   ]
  },
  {
   "cell_type": "markdown",
   "id": "562f2cee-8355-4f47-8ba0-49de80b1bd5a",
   "metadata": {},
   "source": [
    "3. Extract all numbers from A which are within a specific range. eg\n",
    "between 5 and 10. [Hint: np.where() might be useful or boolean masks]"
   ]
  },
  {
   "cell_type": "code",
   "execution_count": 10,
   "id": "1540b20d-c352-463e-a465-27358a5a304f",
   "metadata": {},
   "outputs": [
    {
     "name": "stdout",
     "output_type": "stream",
     "text": [
      "Numbers between 5 and 10: [6 8 5 9]\n"
     ]
    }
   ],
   "source": [
    "A = np.array([1, 6, 3, 8, 12, 5, 9, 15])\n",
    "indices = np.where((A >= 5) & (A <= 10))\n",
    "in_range = A[indices]\n",
    "print(\"Numbers between 5 and 10:\", in_range)"
   ]
  },
  {
   "cell_type": "markdown",
   "id": "5981f0b3-c24b-437c-ba91-802db99808b7",
   "metadata": {},
   "source": [
    "4. Filter the rows of iris_2d that has petallength (3rd column) > 1.5\n",
    "and sepallength (1st column) < 5.0"
   ]
  },
  {
   "cell_type": "code",
   "execution_count": 13,
   "id": "a51b27cc-a2dd-4c15-88a3-ad5b2671978f",
   "metadata": {},
   "outputs": [
    {
     "name": "stdout",
     "output_type": "stream",
     "text": [
      "Filtered rows where petal length > 1.5 and sepal length < 5.0:\n",
      "[[4.8 3.4 1.6 0.2]\n",
      " [4.8 3.4 1.9 0.2]\n",
      " [4.7 3.2 1.6 0.2]\n",
      " [4.8 3.1 1.6 0.2]\n",
      " [4.9 2.4 3.3 1. ]\n",
      " [4.9 2.5 4.5 1.7]]\n"
     ]
    }
   ],
   "source": [
    "url = 'https://archive.ics.uci.edu/ml/machine-learning-databases/iris/iris.data'\n",
    "iris_2d = np.genfromtxt(url, delimiter=',', dtype='float', usecols=[0, 1, 2, 3])\n",
    "\n",
    "filtered_iris = iris_2d[(iris_2d[:, 2] > 1.5) & (iris_2d[:, 0] < 5.0)]\n",
    "print(\"Filtered rows where petal length > 1.5 and sepal length < 5.0:\")\n",
    "print(filtered_iris)"
   ]
  },
  {
   "cell_type": "markdown",
   "id": "04895066-387c-4e6f-a87e-5285a0b7c8d6",
   "metadata": {},
   "source": [
    "5. From df filter the 'Manufacturer', 'Model' and 'Type' for every\n",
    "20th row starting from 1st (row 0).\n",
    "```\n",
    "df = pd.read_csv('https://raw.githubusercontent.com/selva86/datasets/master/Cars93_miss.csv')"
   ]
  },
  {
   "cell_type": "code",
   "execution_count": 17,
   "id": "e6349b63-8142-4e36-af00-1143f111c2ff",
   "metadata": {},
   "outputs": [
    {
     "name": "stdout",
     "output_type": "stream",
     "text": [
      "   Manufacturer    Model     Type\n",
      "0         Acura  Integra    Small\n",
      "20     Chrysler  LeBaron  Compact\n",
      "40        Honda  Prelude   Sporty\n",
      "60      Mercury   Cougar  Midsize\n",
      "80       Subaru   Loyale    Small\n"
     ]
    }
   ],
   "source": [
    "import pandas as pd\n",
    "df = pd.read_csv('https://raw.githubusercontent.com/selva86/datasets/master/Cars93_miss.csv')\n",
    "\n",
    "filtered_df = df.loc[::20 ,['Manufacturer', 'Model', 'Type']]\n",
    "\n",
    "print(filtered_df)"
   ]
  },
  {
   "cell_type": "markdown",
   "id": "4b792f62-3719-4827-883d-ca46ed7c257b",
   "metadata": {},
   "source": [
    "6. Replace missing values in Min.Price and Max.Price columns with\n",
    "their respective mean.\n",
    "```\n",
    "df = pd.read_csv('https://raw.githubusercontent.com/selva86/datasets/master/Cars93_miss.csv')"
   ]
  },
  {
   "cell_type": "code",
   "execution_count": 19,
   "id": "4268c2b0-f015-4f89-adcf-20d0cf558f41",
   "metadata": {},
   "outputs": [
    {
     "name": "stderr",
     "output_type": "stream",
     "text": [
      "/var/folders/92/94j_st7j0d5b9dxv5gqwl7pm0000gn/T/ipykernel_9490/2873942113.py:4: FutureWarning: A value is trying to be set on a copy of a DataFrame or Series through chained assignment using an inplace method.\n",
      "The behavior will change in pandas 3.0. This inplace method will never work because the intermediate object on which we are setting values always behaves as a copy.\n",
      "\n",
      "For example, when doing 'df[col].method(value, inplace=True)', try using 'df.method({col: value}, inplace=True)' or df[col] = df[col].method(value) instead, to perform the operation inplace on the original object.\n",
      "\n",
      "\n",
      "  df['Min.Price'].fillna(min_price_mean, inplace=True)\n",
      "/var/folders/92/94j_st7j0d5b9dxv5gqwl7pm0000gn/T/ipykernel_9490/2873942113.py:5: FutureWarning: A value is trying to be set on a copy of a DataFrame or Series through chained assignment using an inplace method.\n",
      "The behavior will change in pandas 3.0. This inplace method will never work because the intermediate object on which we are setting values always behaves as a copy.\n",
      "\n",
      "For example, when doing 'df[col].method(value, inplace=True)', try using 'df.method({col: value}, inplace=True)' or df[col] = df[col].method(value) instead, to perform the operation inplace on the original object.\n",
      "\n",
      "\n",
      "  df['Max.Price'].fillna(max_price_mean, inplace=True)\n"
     ]
    }
   ],
   "source": [
    "df = pd.read_csv('https://raw.githubusercontent.com/selva86/datasets/master/Cars93_miss.csv')\n",
    "min_price_mean = df['Min.Price'].mean()\n",
    "max_price_mean = df['Max.Price'].mean()\n",
    "df['Min.Price'].fillna(min_price_mean, inplace=True)\n",
    "df['Max.Price'].fillna(max_price_mean, inplace=True)\n"
   ]
  },
  {
   "cell_type": "markdown",
   "id": "efef2175-82f5-40a4-89f3-11d63a01fe7e",
   "metadata": {},
   "source": [
    "How to get the rows of a dataframe with row sum > 100?\n",
    "```\n",
    "df = pd.DataFrame(np.random.randint(10, 40, 60).reshape(-1, 4))"
   ]
  },
  {
   "cell_type": "code",
   "execution_count": null,
   "id": "11a53306-25c4-40d4-9eb1-3da2907adf51",
   "metadata": {},
   "outputs": [],
   "source": []
  }
 ],
 "metadata": {
  "kernelspec": {
   "display_name": "Python 3 (ipykernel)",
   "language": "python",
   "name": "python3"
  },
  "language_info": {
   "codemirror_mode": {
    "name": "ipython",
    "version": 3
   },
   "file_extension": ".py",
   "mimetype": "text/x-python",
   "name": "python",
   "nbconvert_exporter": "python",
   "pygments_lexer": "ipython3",
   "version": "3.11.7"
  }
 },
 "nbformat": 4,
 "nbformat_minor": 5
}
